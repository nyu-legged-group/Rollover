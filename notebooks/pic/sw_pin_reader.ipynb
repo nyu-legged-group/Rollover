{
 "cells": [
  {
   "cell_type": "code",
   "execution_count": 6,
   "metadata": {},
   "outputs": [
    {
     "name": "stdout",
     "output_type": "stream",
     "text": [
      "The autoreload extension is already loaded. To reload it, use:\n",
      "  %reload_ext autoreload\n"
     ]
    }
   ],
   "source": [
    "%matplotlib inline\n",
    "%load_ext autoreload\n",
    "%autoreload 2"
   ]
  },
  {
   "cell_type": "code",
   "execution_count": 7,
   "metadata": {},
   "outputs": [],
   "source": [
    "import os\n",
    "import inspect\n",
    "currentdir = os.path.dirname(os.path.abspath(\n",
    "    inspect.getfile(inspect.currentframe())))\n",
    "parentdir = os.path.dirname(currentdir)\n",
    "os.sys.path.insert(1, parentdir+'/src')\n",
    "dataPath = parentdir + '/data/'\n",
    "if os.path.exists(dataPath)==False:\n",
    "    os.makedirs(dataPath)"
   ]
  },
  {
   "cell_type": "code",
   "execution_count": 8,
   "metadata": {},
   "outputs": [],
   "source": [
    "def converData(x):\n",
    "    y = x.T.tolist()[0]\n",
    "    return y"
   ]
  },
  {
   "cell_type": "code",
   "execution_count": 9,
   "metadata": {},
   "outputs": [],
   "source": [
    "from visualizer import VisualModel\n",
    "import pinocchio\n",
    "import numpy as np\n",
    "pinocchio.switchToNumpyMatrix()"
   ]
  },
  {
   "cell_type": "code",
   "execution_count": 10,
   "metadata": {},
   "outputs": [
    {
     "name": "stdout",
     "output_type": "stream",
     "text": [
      "(matrix([[0.33148504],\n",
      "        [0.15684289],\n",
      "        [0.43130824]]), matrix([[ 0.33148504],\n",
      "        [-0.15684689],\n",
      "        [ 0.43130814]]))\n"
     ]
    }
   ],
   "source": [
    "m = VisualModel(display=True)"
   ]
  },
  {
   "cell_type": "code",
   "execution_count": 44,
   "metadata": {},
   "outputs": [],
   "source": [
    "x0 = m.x0"
   ]
  },
  {
   "cell_type": "code",
   "execution_count": 45,
   "metadata": {},
   "outputs": [
    {
     "data": {
      "text/plain": [
       "matrix([[-2.38755055e-02],\n",
       "        [-2.49800181e-16],\n",
       "        [-1.55911452e-01],\n",
       "        [ 0.00000000e+00],\n",
       "        [ 0.00000000e+00],\n",
       "        [ 0.00000000e+00],\n",
       "        [ 1.00000000e+00],\n",
       "        [ 0.00000000e+00],\n",
       "        [ 0.00000000e+00],\n",
       "        [ 0.00000000e+00],\n",
       "        [-1.75227698e+00],\n",
       "        [-1.81480656e-01],\n",
       "        [ 0.00000000e+00],\n",
       "        [-1.57079633e+00],\n",
       "        [ 0.00000000e+00],\n",
       "        [-5.23598776e-01],\n",
       "        [ 2.96705973e-01],\n",
       "        [ 0.00000000e+00],\n",
       "        [ 0.00000000e+00],\n",
       "        [ 0.00000000e+00],\n",
       "        [-1.75227698e+00],\n",
       "        [-1.81480656e-01],\n",
       "        [ 0.00000000e+00],\n",
       "        [-1.57079633e+00],\n",
       "        [ 0.00000000e+00],\n",
       "        [ 5.23598776e-01],\n",
       "        [ 2.96705973e-01]])"
      ]
     },
     "execution_count": 45,
     "metadata": {},
     "output_type": "execute_result"
    }
   ],
   "source": [
    "m.q0"
   ]
  },
  {
   "cell_type": "code",
   "execution_count": 46,
   "metadata": {},
   "outputs": [
    {
     "name": "stdout",
     "output_type": "stream",
     "text": [
      "(20, 1000)\n"
     ]
    }
   ],
   "source": [
    "q = m.q0\n",
    "q[14] = q[24]= (np.pi-175./180.*np.pi)#Initialize elbow position using kinematic data from [Abdolshah2018]\n",
    "m.visualizeConfig(q)\n",
    "pos = np.asarray(q[7:])\n",
    "def dup_cols(a, indx, num_dups=1):\n",
    "    return np.insert(a,[indx+1]*num_dups,a[:,[indx]],axis=1)\n",
    "# print(tauBimanualTraj)\n",
    "tau = dup_cols(pos, indx=0, num_dups=999)\n",
    "print(tau.shape)\n",
    "np.savetxt(dataPath+\"value.csv\", tau, delimiter=\",\")"
   ]
  },
  {
   "cell_type": "code",
   "execution_count": 7,
   "metadata": {},
   "outputs": [],
   "source": [
    "m.saveConfig(converData(x0),dataPath+'kneeling_config_test.xlsx')"
   ]
  },
  {
   "cell_type": "code",
   "execution_count": 8,
   "metadata": {},
   "outputs": [],
   "source": [
    "x1 = m.readConfig(dataPath+'kneeing_config_test.xlsx')"
   ]
  },
  {
   "cell_type": "code",
   "execution_count": 9,
   "metadata": {},
   "outputs": [],
   "source": [
    "m.visualizeConfig(x1)"
   ]
  },
  {
   "cell_type": "code",
   "execution_count": 54,
   "metadata": {},
   "outputs": [],
   "source": [
    "q0 =  m.q0.copy()\n",
    "q0[7] = 0 # l_hip_y\n",
    "q0[8] = 0 # l_hip_r\n",
    "q0[9] = 0 # l_hip_p\n",
    "q0[10] = 0 # l_knee\n",
    "q0[11] = 0 # l_ankle_p\n",
    "q0[12] = 0 # l_ankle_r\n",
    "q0[13] = 0 # l_shoulder_p\n",
    "q0[14] = 0 # l_shoulder_r\n",
    "q0[15] = 0 # l_shoulder_y\n",
    "q0[16] = 0 # l_elbow\n",
    "\n",
    "q0[17] = np.pi/6 # r_hip_y\n",
    "q0[18] = 0 # r_hip_r\n",
    "q0[19] = 0 # r_hip_p\n",
    "q0[20] = 0 # r_knee\n",
    "q0[21] = 0 # r_ankle_p\n",
    "q0[22] = 0 # r_ankle_r\n",
    "q0[23] = 0 # r_shoulder_p\n",
    "q0[24] = 0 # r_shoulder_r\n",
    "q0[25] = 0 # r_shoulder_y\n",
    "q0[26] = 0 # r_elbow\n",
    "m.visualizeConfig(q0)"
   ]
  },
  {
   "cell_type": "code",
   "execution_count": 55,
   "metadata": {},
   "outputs": [],
   "source": [
    "u = []\n",
    "l = []\n",
    "# l_hip_y\n",
    "u.append(np.pi/2)  # fore to inward\n",
    "l.append(-np.pi/6) # fore to outward\n",
    "# l_hip_r\n",
    "u.append(np.pi/4) #lift left\n",
    "l.append(-np.pi/4) #lift right\n",
    "# l_hip_p\n",
    "u.append(np.pi/2) #bend forward\n",
    "l.append(-np.pi/6) # bend backward\n",
    "# l_knee\n",
    "u.append(0) # bend forward impossible\n",
    "l.append(-np.pi/2-np.pi/10) # bend backward\n",
    "# l_ankle_p\n",
    "u.append(np.pi/6) # rear lift\n",
    "l.append(-np.pi/2)# fore lift\n",
    "# l_ankle_r\n",
    "u.append(np.pi/6) # lift right\n",
    "l.append(-np.pi/6)# lift left\n",
    "# l_shoulder_p\n",
    "u.append(np.pi/2) #  arm backward\n",
    "l.append(-np.pi)#  arm forward\n",
    "# l_shoulder_r\n",
    "u.append(np.pi) #  arm left\n",
    "l.append(-np.pi/18)#  arm right\n",
    "# l_shoulder_y\n",
    "u.append(np.pi) #  elbow left\n",
    "l.append(-np.pi)#  elbow right\n",
    "# l_elbow\n",
    "u.append(np.pi/2+np.pi/6) #  elbow bend inward\n",
    "l.append(0)#  elbow bend outward impossible\n",
    "\n",
    "# r_hip_y\n",
    "u.append(np.pi/6)  # fore to outward\n",
    "l.append(-np.pi/2) # fore to inward\n",
    "# r_hip_r\n",
    "u.append(np.pi/4) #lift left\n",
    "l.append(-np.pi/4) #lift right\n",
    "# r_hip_p\n",
    "u.append(np.pi/2) #bend forward\n",
    "l.append(-np.pi/6) # bend backward\n",
    "# r_knee\n",
    "u.append(0) # bend forward impossible\n",
    "l.append(-np.pi/2-np.pi/10) # bend backward\n",
    "# r_ankle_p\n",
    "u.append(np.pi/6) # rear lift\n",
    "l.append(-np.pi/2)# fore lift\n",
    "# r_ankle_r\n",
    "u.append(np.pi/6) # lift right\n",
    "l.append(-np.pi/6)# lift left\n",
    "# r_shoulder_p\n",
    "u.append(np.pi/2) #  arm backward\n",
    "l.append(-np.pi)#  arm forward\n",
    "# r_shoulder_r\n",
    "u.append(np.pi) #  arm right\n",
    "l.append(-np.pi/18)#  arm left\n",
    "# r_shoulder_y\n",
    "u.append(np.pi) #  elbow left\n",
    "l.append(-np.pi)#  elbow right\n",
    "# r_elbow\n",
    "u.append(np.pi/2+np.pi/6) #  elbow bend inward\n",
    "l.append(0)#  elbow bend outward impossible"
   ]
  },
  {
   "cell_type": "code",
   "execution_count": 56,
   "metadata": {},
   "outputs": [
    {
     "name": "stdout",
     "output_type": "stream",
     "text": [
      "([1.5707963267948966, 0.7853981633974483, 1.5707963267948966, 0, 0.5235987755982988, 0.5235987755982988, 1.5707963267948966, 3.141592653589793, 3.141592653589793, 2.0943951023931953, 0.5235987755982988, 0.7853981633974483, 1.5707963267948966, 0, 0.5235987755982988, 0.5235987755982988, 1.5707963267948966, 3.141592653589793, 3.141592653589793, 2.0943951023931953], [-0.5235987755982988, -0.7853981633974483, -0.5235987755982988, -1.8849555921538759, -1.5707963267948966, -0.5235987755982988, -3.141592653589793, -0.17453292519943295, -3.141592653589793, 0, -1.5707963267948966, -0.7853981633974483, -0.5235987755982988, -1.8849555921538759, -1.5707963267948966, -0.5235987755982988, -3.141592653589793, -0.17453292519943295, -3.141592653589793, 0])\n"
     ]
    }
   ],
   "source": [
    "print(u,l)"
   ]
  },
  {
   "cell_type": "code",
   "execution_count": null,
   "metadata": {},
   "outputs": [],
   "source": []
  }
 ],
 "metadata": {
  "kernelspec": {
   "display_name": "Python 2.7.12 64-bit",
   "language": "python",
   "name": "python271264bit804e202770ee432aae43980cc23e6129"
  },
  "language_info": {
   "codemirror_mode": {
    "name": "ipython",
    "version": 2
   },
   "file_extension": ".py",
   "mimetype": "text/x-python",
   "name": "python",
   "nbconvert_exporter": "python",
   "pygments_lexer": "ipython2",
   "version": "2.7.12"
  }
 },
 "nbformat": 4,
 "nbformat_minor": 4
}
